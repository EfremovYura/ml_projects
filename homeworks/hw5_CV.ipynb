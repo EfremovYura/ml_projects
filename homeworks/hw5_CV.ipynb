{
  "nbformat": 4,
  "nbformat_minor": 0,
  "metadata": {
    "colab": {
      "provenance": []
    },
    "kernelspec": {
      "name": "python3",
      "display_name": "Python 3"
    },
    "language_info": {
      "name": "python"
    },
    "widgets": {
      "application/vnd.jupyter.widget-state+json": {
        "d843ff831aea4869808424075ab3b538": {
          "model_module": "@jupyter-widgets/controls",
          "model_name": "HBoxModel",
          "model_module_version": "1.5.0",
          "state": {
            "_dom_classes": [],
            "_model_module": "@jupyter-widgets/controls",
            "_model_module_version": "1.5.0",
            "_model_name": "HBoxModel",
            "_view_count": null,
            "_view_module": "@jupyter-widgets/controls",
            "_view_module_version": "1.5.0",
            "_view_name": "HBoxView",
            "box_style": "",
            "children": [
              "IPY_MODEL_71e52bb41ff4445fabca1bf752b8b62c",
              "IPY_MODEL_1b620c76469f4328b6ab3b251d18da53",
              "IPY_MODEL_99f80f347ddc42379035c894c3c3d070"
            ],
            "layout": "IPY_MODEL_9284d0107a24434ebd96ab749ce14dc8"
          }
        },
        "71e52bb41ff4445fabca1bf752b8b62c": {
          "model_module": "@jupyter-widgets/controls",
          "model_name": "HTMLModel",
          "model_module_version": "1.5.0",
          "state": {
            "_dom_classes": [],
            "_model_module": "@jupyter-widgets/controls",
            "_model_module_version": "1.5.0",
            "_model_name": "HTMLModel",
            "_view_count": null,
            "_view_module": "@jupyter-widgets/controls",
            "_view_module_version": "1.5.0",
            "_view_name": "HTMLView",
            "description": "",
            "description_tooltip": null,
            "layout": "IPY_MODEL_df4b5791453541419c94bc21d62afaef",
            "placeholder": "​",
            "style": "IPY_MODEL_1ace3242f2b24ebbbf95ee7d2bdab5ee",
            "value": "100%"
          }
        },
        "1b620c76469f4328b6ab3b251d18da53": {
          "model_module": "@jupyter-widgets/controls",
          "model_name": "FloatProgressModel",
          "model_module_version": "1.5.0",
          "state": {
            "_dom_classes": [],
            "_model_module": "@jupyter-widgets/controls",
            "_model_module_version": "1.5.0",
            "_model_name": "FloatProgressModel",
            "_view_count": null,
            "_view_module": "@jupyter-widgets/controls",
            "_view_module_version": "1.5.0",
            "_view_name": "ProgressView",
            "bar_style": "success",
            "description": "",
            "description_tooltip": null,
            "layout": "IPY_MODEL_a9548824f38a4c2b8dc6995872048861",
            "max": 170498071,
            "min": 0,
            "orientation": "horizontal",
            "style": "IPY_MODEL_4b98ba59a010452ead46a622166a855d",
            "value": 170498071
          }
        },
        "99f80f347ddc42379035c894c3c3d070": {
          "model_module": "@jupyter-widgets/controls",
          "model_name": "HTMLModel",
          "model_module_version": "1.5.0",
          "state": {
            "_dom_classes": [],
            "_model_module": "@jupyter-widgets/controls",
            "_model_module_version": "1.5.0",
            "_model_name": "HTMLModel",
            "_view_count": null,
            "_view_module": "@jupyter-widgets/controls",
            "_view_module_version": "1.5.0",
            "_view_name": "HTMLView",
            "description": "",
            "description_tooltip": null,
            "layout": "IPY_MODEL_7189465dc0ef4882b6e00ffce527904f",
            "placeholder": "​",
            "style": "IPY_MODEL_33eece5069074c9e91557f740faa7bd7",
            "value": " 170498071/170498071 [00:13&lt;00:00, 14461902.54it/s]"
          }
        },
        "9284d0107a24434ebd96ab749ce14dc8": {
          "model_module": "@jupyter-widgets/base",
          "model_name": "LayoutModel",
          "model_module_version": "1.2.0",
          "state": {
            "_model_module": "@jupyter-widgets/base",
            "_model_module_version": "1.2.0",
            "_model_name": "LayoutModel",
            "_view_count": null,
            "_view_module": "@jupyter-widgets/base",
            "_view_module_version": "1.2.0",
            "_view_name": "LayoutView",
            "align_content": null,
            "align_items": null,
            "align_self": null,
            "border": null,
            "bottom": null,
            "display": null,
            "flex": null,
            "flex_flow": null,
            "grid_area": null,
            "grid_auto_columns": null,
            "grid_auto_flow": null,
            "grid_auto_rows": null,
            "grid_column": null,
            "grid_gap": null,
            "grid_row": null,
            "grid_template_areas": null,
            "grid_template_columns": null,
            "grid_template_rows": null,
            "height": null,
            "justify_content": null,
            "justify_items": null,
            "left": null,
            "margin": null,
            "max_height": null,
            "max_width": null,
            "min_height": null,
            "min_width": null,
            "object_fit": null,
            "object_position": null,
            "order": null,
            "overflow": null,
            "overflow_x": null,
            "overflow_y": null,
            "padding": null,
            "right": null,
            "top": null,
            "visibility": null,
            "width": null
          }
        },
        "df4b5791453541419c94bc21d62afaef": {
          "model_module": "@jupyter-widgets/base",
          "model_name": "LayoutModel",
          "model_module_version": "1.2.0",
          "state": {
            "_model_module": "@jupyter-widgets/base",
            "_model_module_version": "1.2.0",
            "_model_name": "LayoutModel",
            "_view_count": null,
            "_view_module": "@jupyter-widgets/base",
            "_view_module_version": "1.2.0",
            "_view_name": "LayoutView",
            "align_content": null,
            "align_items": null,
            "align_self": null,
            "border": null,
            "bottom": null,
            "display": null,
            "flex": null,
            "flex_flow": null,
            "grid_area": null,
            "grid_auto_columns": null,
            "grid_auto_flow": null,
            "grid_auto_rows": null,
            "grid_column": null,
            "grid_gap": null,
            "grid_row": null,
            "grid_template_areas": null,
            "grid_template_columns": null,
            "grid_template_rows": null,
            "height": null,
            "justify_content": null,
            "justify_items": null,
            "left": null,
            "margin": null,
            "max_height": null,
            "max_width": null,
            "min_height": null,
            "min_width": null,
            "object_fit": null,
            "object_position": null,
            "order": null,
            "overflow": null,
            "overflow_x": null,
            "overflow_y": null,
            "padding": null,
            "right": null,
            "top": null,
            "visibility": null,
            "width": null
          }
        },
        "1ace3242f2b24ebbbf95ee7d2bdab5ee": {
          "model_module": "@jupyter-widgets/controls",
          "model_name": "DescriptionStyleModel",
          "model_module_version": "1.5.0",
          "state": {
            "_model_module": "@jupyter-widgets/controls",
            "_model_module_version": "1.5.0",
            "_model_name": "DescriptionStyleModel",
            "_view_count": null,
            "_view_module": "@jupyter-widgets/base",
            "_view_module_version": "1.2.0",
            "_view_name": "StyleView",
            "description_width": ""
          }
        },
        "a9548824f38a4c2b8dc6995872048861": {
          "model_module": "@jupyter-widgets/base",
          "model_name": "LayoutModel",
          "model_module_version": "1.2.0",
          "state": {
            "_model_module": "@jupyter-widgets/base",
            "_model_module_version": "1.2.0",
            "_model_name": "LayoutModel",
            "_view_count": null,
            "_view_module": "@jupyter-widgets/base",
            "_view_module_version": "1.2.0",
            "_view_name": "LayoutView",
            "align_content": null,
            "align_items": null,
            "align_self": null,
            "border": null,
            "bottom": null,
            "display": null,
            "flex": null,
            "flex_flow": null,
            "grid_area": null,
            "grid_auto_columns": null,
            "grid_auto_flow": null,
            "grid_auto_rows": null,
            "grid_column": null,
            "grid_gap": null,
            "grid_row": null,
            "grid_template_areas": null,
            "grid_template_columns": null,
            "grid_template_rows": null,
            "height": null,
            "justify_content": null,
            "justify_items": null,
            "left": null,
            "margin": null,
            "max_height": null,
            "max_width": null,
            "min_height": null,
            "min_width": null,
            "object_fit": null,
            "object_position": null,
            "order": null,
            "overflow": null,
            "overflow_x": null,
            "overflow_y": null,
            "padding": null,
            "right": null,
            "top": null,
            "visibility": null,
            "width": null
          }
        },
        "4b98ba59a010452ead46a622166a855d": {
          "model_module": "@jupyter-widgets/controls",
          "model_name": "ProgressStyleModel",
          "model_module_version": "1.5.0",
          "state": {
            "_model_module": "@jupyter-widgets/controls",
            "_model_module_version": "1.5.0",
            "_model_name": "ProgressStyleModel",
            "_view_count": null,
            "_view_module": "@jupyter-widgets/base",
            "_view_module_version": "1.2.0",
            "_view_name": "StyleView",
            "bar_color": null,
            "description_width": ""
          }
        },
        "7189465dc0ef4882b6e00ffce527904f": {
          "model_module": "@jupyter-widgets/base",
          "model_name": "LayoutModel",
          "model_module_version": "1.2.0",
          "state": {
            "_model_module": "@jupyter-widgets/base",
            "_model_module_version": "1.2.0",
            "_model_name": "LayoutModel",
            "_view_count": null,
            "_view_module": "@jupyter-widgets/base",
            "_view_module_version": "1.2.0",
            "_view_name": "LayoutView",
            "align_content": null,
            "align_items": null,
            "align_self": null,
            "border": null,
            "bottom": null,
            "display": null,
            "flex": null,
            "flex_flow": null,
            "grid_area": null,
            "grid_auto_columns": null,
            "grid_auto_flow": null,
            "grid_auto_rows": null,
            "grid_column": null,
            "grid_gap": null,
            "grid_row": null,
            "grid_template_areas": null,
            "grid_template_columns": null,
            "grid_template_rows": null,
            "height": null,
            "justify_content": null,
            "justify_items": null,
            "left": null,
            "margin": null,
            "max_height": null,
            "max_width": null,
            "min_height": null,
            "min_width": null,
            "object_fit": null,
            "object_position": null,
            "order": null,
            "overflow": null,
            "overflow_x": null,
            "overflow_y": null,
            "padding": null,
            "right": null,
            "top": null,
            "visibility": null,
            "width": null
          }
        },
        "33eece5069074c9e91557f740faa7bd7": {
          "model_module": "@jupyter-widgets/controls",
          "model_name": "DescriptionStyleModel",
          "model_module_version": "1.5.0",
          "state": {
            "_model_module": "@jupyter-widgets/controls",
            "_model_module_version": "1.5.0",
            "_model_name": "DescriptionStyleModel",
            "_view_count": null,
            "_view_module": "@jupyter-widgets/base",
            "_view_module_version": "1.2.0",
            "_view_name": "StyleView",
            "description_width": ""
          }
        }
      }
    },
    "accelerator": "GPU",
    "gpuClass": "standard"
  },
  "cells": [
    {
      "cell_type": "markdown",
      "source": [
        "# Домашнее задание\n",
        "\n",
        "С помощью CNN решить задачу множественной классификации изображений, в качестве данных использовать датасет CIFAR-10. Добиться точности классификации на тестовой выборке не менее 80% (для полного балла за ДЗ). Провести анализ ошибок - вычислить и построить гистограммы precision и recall для каждого класса, построить графики зависимости ошибок и точности тестовой и обучающей выборок в зависимости от эпох обучения.\n",
        "\n",
        "**В ДЗ можно пользоваться кодом из лекции**"
      ],
      "metadata": {
        "id": "fQeJeG1zYkYL"
      }
    },
    {
      "cell_type": "code",
      "source": [
        "import torch\n",
        "import torch.nn as nn\n",
        "import torchvision\n",
        "import torch.optim as optim\n",
        "import time\n",
        "import numpy as np\n",
        "import matplotlib.pyplot as plt\n",
        "import torch.nn.functional as F\n",
        "\n",
        "\n",
        "from torch.utils.data import DataLoader\n",
        "from torchvision import transforms\n",
        "from torchsummary import summary\n",
        "from collections import defaultdict\n",
        "from IPython.display import clear_output\n",
        "\n",
        "\n",
        "%matplotlib inline\n",
        "\n",
        "device_num = 0\n",
        "device = f\"cuda:{device_num}\" if torch.cuda.is_available() else \"cpu\"\n",
        "\n",
        "print(f\"Device: {device}\")"
      ],
      "metadata": {
        "colab": {
          "base_uri": "https://localhost:8080/"
        },
        "id": "YmZOPeKVYyFB",
        "outputId": "80e00a03-d79c-4b1f-d7c7-080c7d526115"
      },
      "execution_count": null,
      "outputs": [
        {
          "output_type": "stream",
          "name": "stdout",
          "text": [
            "Device: cuda:0\n"
          ]
        }
      ]
    },
    {
      "cell_type": "code",
      "source": [],
      "metadata": {
        "id": "VuZvEs_Kt8oV"
      },
      "execution_count": null,
      "outputs": []
    },
    {
      "cell_type": "markdown",
      "source": [
        "1) **Загрузите датасет и разбейте его на train и test**"
      ],
      "metadata": {
        "id": "02jf6E87ZQox"
      }
    },
    {
      "cell_type": "code",
      "source": [
        "# загружаем тренировочный датасет CIFAR10\n",
        "dataset = torchvision.datasets.CIFAR10(\n",
        "    root='./data', \n",
        "    train=True,\n",
        "    download=True, \n",
        "    transform=transforms.ToTensor()\n",
        ")\n",
        "\n",
        "test_dataset = torchvision.datasets.CIFAR10(\n",
        "    root='./data', \n",
        "    train=False,\n",
        "    download=True, \n",
        "    transform=transforms.ToTensor()\n",
        ")\n",
        "\n",
        "classes = ('plane', 'car', 'bird', 'cat',\n",
        "           'deer', 'dog', 'frog', 'horse', 'ship', 'truck')"
      ],
      "metadata": {
        "colab": {
          "base_uri": "https://localhost:8080/",
          "height": 101,
          "referenced_widgets": [
            "d843ff831aea4869808424075ab3b538",
            "71e52bb41ff4445fabca1bf752b8b62c",
            "1b620c76469f4328b6ab3b251d18da53",
            "99f80f347ddc42379035c894c3c3d070",
            "9284d0107a24434ebd96ab749ce14dc8",
            "df4b5791453541419c94bc21d62afaef",
            "1ace3242f2b24ebbbf95ee7d2bdab5ee",
            "a9548824f38a4c2b8dc6995872048861",
            "4b98ba59a010452ead46a622166a855d",
            "7189465dc0ef4882b6e00ffce527904f",
            "33eece5069074c9e91557f740faa7bd7"
          ]
        },
        "id": "tgy8-rXEujqx",
        "outputId": "1cc6b908-0745-4ee7-9d04-aecc010a8c33"
      },
      "execution_count": null,
      "outputs": [
        {
          "output_type": "stream",
          "name": "stdout",
          "text": [
            "Downloading https://www.cs.toronto.edu/~kriz/cifar-10-python.tar.gz to ./data/cifar-10-python.tar.gz\n"
          ]
        },
        {
          "output_type": "display_data",
          "data": {
            "text/plain": [
              "  0%|          | 0/170498071 [00:00<?, ?it/s]"
            ],
            "application/vnd.jupyter.widget-view+json": {
              "version_major": 2,
              "version_minor": 0,
              "model_id": "d843ff831aea4869808424075ab3b538"
            }
          },
          "metadata": {}
        },
        {
          "output_type": "stream",
          "name": "stdout",
          "text": [
            "Extracting ./data/cifar-10-python.tar.gz to ./data\n",
            "Files already downloaded and verified\n"
          ]
        }
      ]
    },
    {
      "cell_type": "code",
      "source": [
        "#Обратите внимание что теперь 10 уникальных классов (не 2 как в лекции)\n",
        "print(np.unique(dataset.targets))"
      ],
      "metadata": {
        "colab": {
          "base_uri": "https://localhost:8080/"
        },
        "id": "2EPeN-wUutXp",
        "outputId": "5a140e91-5fd0-4f53-c32b-ee26a5457cdb"
      },
      "execution_count": null,
      "outputs": [
        {
          "output_type": "stream",
          "name": "stdout",
          "text": [
            "[0 1 2 3 4 5 6 7 8 9]\n"
          ]
        }
      ]
    },
    {
      "cell_type": "code",
      "source": [
        "#Размер всего датасета\n",
        "print(dataset.data.shape)"
      ],
      "metadata": {
        "colab": {
          "base_uri": "https://localhost:8080/"
        },
        "id": "eAZQPMrBu0b-",
        "outputId": "bc6cc51b-9f4f-4d68-9084-3c432bd54d42"
      },
      "execution_count": null,
      "outputs": [
        {
          "output_type": "stream",
          "name": "stdout",
          "text": [
            "(50000, 32, 32, 3)\n"
          ]
        }
      ]
    },
    {
      "cell_type": "code",
      "source": [
        "#Делим датасет на тренировочную и тестовую части\n",
        "train_dataset, val_dataset = torch.utils.data.random_split(\n",
        "    dataset, [40000, 10000]\n",
        ")\n"
      ],
      "metadata": {
        "id": "QMqBkfOhZT3O"
      },
      "execution_count": null,
      "outputs": []
    },
    {
      "cell_type": "code",
      "source": [
        "batch_size = 64\n",
        "hidden_sizes = [128, 256, 256]\n",
        "batch_size = 64\n",
        "input_size = 32 * 32\n",
        "num_classes = 10\n",
        "lr = 0.001\n",
        "num_epochs = 50"
      ],
      "metadata": {
        "id": "fuLTecq6mW3P"
      },
      "execution_count": null,
      "outputs": []
    },
    {
      "cell_type": "code",
      "source": [
        "train_loader = DataLoader(train_dataset, batch_size=batch_size)\n",
        "test_loader = DataLoader(test_dataset, batch_size=batch_size)"
      ],
      "metadata": {
        "id": "6W29trIHZ8hT"
      },
      "execution_count": null,
      "outputs": []
    },
    {
      "cell_type": "code",
      "source": [
        "train_batch_gen = DataLoader(\n",
        "    train_dataset, batch_size=batch_size, shuffle=True\n",
        ")\n",
        "val_batch_gen = DataLoader(\n",
        "    val_dataset, batch_size=batch_size, shuffle=True\n",
        ")\n",
        "test_batch_gen = DataLoader(\n",
        "    test_dataset, batch_size=batch_size, shuffle=False\n",
        ")"
      ],
      "metadata": {
        "id": "WVVfXg7Qqduh"
      },
      "execution_count": null,
      "outputs": []
    },
    {
      "cell_type": "code",
      "source": [
        "for item, label in train_batch_gen:\n",
        "  print(item.shape, label.shape)\n",
        "  break"
      ],
      "metadata": {
        "colab": {
          "base_uri": "https://localhost:8080/"
        },
        "id": "2sgkWLM755Cv",
        "outputId": "ebfca5cc-6311-4613-c3ea-24e25408c616"
      },
      "execution_count": null,
      "outputs": [
        {
          "output_type": "stream",
          "name": "stdout",
          "text": [
            "torch.Size([64, 3, 32, 32]) torch.Size([64])\n"
          ]
        }
      ]
    },
    {
      "cell_type": "code",
      "source": [
        "transform = transforms.Compose([\n",
        "    transforms.ToPILImage(),\n",
        "    transforms.Grayscale(), \n",
        "    transforms.ToTensor()\n",
        "])"
      ],
      "metadata": {
        "id": "qH0C2m1DtHW4"
      },
      "execution_count": null,
      "outputs": []
    },
    {
      "cell_type": "markdown",
      "source": [
        "2) **Обучите сеть**"
      ],
      "metadata": {
        "id": "IZa7WABJaDrl"
      }
    },
    {
      "cell_type": "code",
      "source": [
        "def plot_learning_curves(history):\n",
        "    '''\n",
        "    Функция для обучения модели и вывода лосса и метрики во время обучения.\n",
        "\n",
        "    :param history: (dict)\n",
        "        accuracy и loss на обучении и валидации\n",
        "    '''\n",
        "    fig = plt.figure(figsize=(20, 7))\n",
        "\n",
        "    plt.subplot(1,2,1)\n",
        "    plt.title('Лосс', fontsize=15)\n",
        "    plt.plot(history['loss']['train'], label='train')\n",
        "    plt.plot(history['loss']['val'], label='val')\n",
        "    plt.ylabel('лосс', fontsize=15)\n",
        "    plt.xlabel('эпоха', fontsize=15)\n",
        "    plt.legend()\n",
        "\n",
        "    plt.subplot(1,2,2)\n",
        "    plt.title('Точность', fontsize=15)\n",
        "    plt.plot(history['acc']['train'], label='train')\n",
        "    plt.plot(history['acc']['val'], label='val')\n",
        "    plt.ylabel('лосс', fontsize=15)\n",
        "    plt.xlabel('эпоха', fontsize=15)\n",
        "    plt.legend()\n",
        "    plt.show()"
      ],
      "metadata": {
        "id": "cWek1rckqMYO"
      },
      "execution_count": null,
      "outputs": []
    },
    {
      "cell_type": "code",
      "source": [
        "def train(\n",
        "    model, \n",
        "    criterion,\n",
        "    optimizer, \n",
        "    train_batch_gen,\n",
        "    val_batch_gen,\n",
        "    num_epochs=50\n",
        "):\n",
        "    '''\n",
        "    Функция для обучения модели и вывода лосса и метрики во время обучения.\n",
        "\n",
        "    :param model: обучаемая модель\n",
        "    :param criterion: функция потерь\n",
        "    :param optimizer: метод оптимизации\n",
        "    :param train_batch_gen: генератор батчей для обучения\n",
        "    :param val_batch_gen: генератор батчей для валидации\n",
        "    :param num_epochs: количество эпох\n",
        "\n",
        "    :return: обученная модель\n",
        "    :return: (dict) accuracy и loss на обучении и валидации (\"история\" обучения)\n",
        "    '''\n",
        "\n",
        "    history = defaultdict(lambda: defaultdict(list))\n",
        "\n",
        "    for epoch in range(num_epochs):\n",
        "        train_loss = 0\n",
        "        train_acc = 0\n",
        "        val_loss = 0\n",
        "        val_acc = 0\n",
        "        \n",
        "        start_time = time.time()\n",
        "\n",
        "        # Устанавливаем поведение dropout / batch_norm  в обучение\n",
        "        model.train(True) \n",
        "\n",
        "        # На каждой \"эпохе\" делаем полный проход по данным\n",
        "        for X_batch, y_batch in train_batch_gen:\n",
        "            # Обучаемся на батче (одна \"итерация\" обучения нейросети)\n",
        "            X_batch = X_batch.to(device)\n",
        "            y_batch = y_batch.to(device)\n",
        "            \n",
        "            logits = model.forward(X_batch)\n",
        "            \n",
        "            loss = criterion(logits, y_batch.long().to(device))\n",
        "\n",
        "            loss.backward()\n",
        "            optimizer.step()\n",
        "            optimizer.zero_grad()\n",
        "            \n",
        "            train_loss += np.sum(loss.detach().cpu().numpy())\n",
        "            y_pred = logits.max(1)[1].detach().cpu().numpy()\n",
        "            train_acc += np.mean(y_batch.cpu().numpy() == y_pred)\n",
        "\n",
        "        # Подсчитываем лоссы и сохраням в \"историю\"\n",
        "        train_loss /= len(train_batch_gen)\n",
        "        train_acc /= len(train_batch_gen) \n",
        "        history['loss']['train'].append(train_loss)\n",
        "        history['acc']['train'].append(train_acc)\n",
        "    \n",
        "        # Устанавливаем поведение dropout / batch_norm в режим тестирования\n",
        "        model.train(False)\n",
        "\n",
        "        # Полный проход по валидации    \n",
        "        for X_batch, y_batch in val_batch_gen:\n",
        "            X_batch = X_batch.to(device)\n",
        "            y_batch = y_batch.to(device)\n",
        "            \n",
        "            with torch.no_grad():\n",
        "                logits = model(X_batch)\n",
        "                \n",
        "            loss = criterion(logits, y_batch.long().to(device))\n",
        "            val_loss += np.sum(loss.detach().cpu().numpy())\n",
        "            y_pred = logits.max(1)[1].detach().cpu().numpy()\n",
        "            val_acc += np.mean(y_batch.cpu().numpy() == y_pred)\n",
        "\n",
        "        # Подсчитываем лоссы и сохраням в \"историю\"\n",
        "        val_loss /= len(val_batch_gen)\n",
        "        val_acc /= len(val_batch_gen) \n",
        "        history['loss']['val'].append(val_loss)\n",
        "        history['acc']['val'].append(val_acc)\n",
        "        \n",
        "        clear_output()\n",
        "\n",
        "        # Печатаем результаты после каждой эпохи\n",
        "        print(\"Epoch {} of {} took {:.3f}s\".format(\n",
        "            epoch + 1, num_epochs, time.time() - start_time))\n",
        "        print(\"  training loss (in-iteration): \\t{:.6f}\".format(train_loss))\n",
        "        print(\"  validation loss (in-iteration): \\t{:.6f}\".format(val_loss))\n",
        "        print(\"  training accuracy: \\t\\t\\t{:.2f} %\".format(train_acc * 100))\n",
        "        print(\"  validation accuracy: \\t\\t\\t{:.2f} %\".format(val_acc * 100))\n",
        "        \n",
        "        plot_learning_curves(history)\n",
        "        \n",
        "    return model, history"
      ],
      "metadata": {
        "id": "1jdFwChoaNu2"
      },
      "execution_count": null,
      "outputs": []
    },
    {
      "cell_type": "markdown",
      "source": [
        "3) **Cоздайте класс сети**"
      ],
      "metadata": {
        "id": "dKo6kGdtYspy"
      }
    },
    {
      "cell_type": "code",
      "source": [
        "class MyCNN(nn.Module):\n",
        "  def __init__(self):\n",
        "      super().__init__()\n",
        "\n",
        "      model = nn.Sequential()\n",
        "      # Блок 1: Свёртка с большим ядром, чтобы уловить общие закономерности\n",
        "      model.add_module(\n",
        "          'conv1', \n",
        "          nn.Conv2d(\n",
        "              3, 16, \n",
        "              kernel_size=5,  \n",
        "              padding=2\n",
        "          )\n",
        "      )\n",
        "      # Важно! Батч-нормализация всегда идёт до функции активации!\n",
        "      model.add_module('bn1', nn.BatchNorm2d(16))\n",
        "      model.add_module('mp1', nn.MaxPool2d(2))\n",
        "      model.add_module('relu1', nn.ReLU())\n",
        "      model.add_module('dp1', nn.Dropout(0.2))\n",
        "\n",
        "      # Блок 2: Свёртка с ядром поменьше, выделяет более тонкие признаки.\n",
        "      model.add_module('conv2', nn.Conv2d(16, 32, kernel_size=3, padding=1))\n",
        "      model.add_module('bn2', nn.BatchNorm2d(32))\n",
        "      model.add_module('mp2', nn.MaxPool2d(2))\n",
        "      model.add_module('relu2', nn.ReLU())\n",
        "      # Важно! Дропаут идёт после функции активации!\n",
        "      model.add_module('dp2', nn.Dropout(0.2))\n",
        "\n",
        "      # Блок 3: Линейный слой поверх карт активации\n",
        "      model.add_module('flatten', nn.Flatten())\n",
        "      model.add_module('fc1', nn.Linear(2048, 512))\n",
        "      model.add_module('bn3', nn.BatchNorm1d(512))\n",
        "      model.add_module('relu3', nn.ReLU())\n",
        "      model.add_module('dp3', nn.Dropout(0.2))\n",
        "\n",
        "      # Блок 4: Классификационный слой\n",
        "      model.add_module('fc2', nn.Linear(512, 10))\n",
        "      self.model = model\n",
        "\n",
        "  def forward(self, x):\n",
        "      return self.model(x)\n",
        "  # your code here\n",
        "  # Hint: возможно стоит попробовать готовые и даже уже предобученные сети (наподобие VGG с лекции)\n",
        "  # Hint: если вы хотите написать свою сеть, используйте те же слои, которые мы разбирали на лекции (следите за порядком слоев!)"
      ],
      "metadata": {
        "id": "EVcU7aYfYqq6"
      },
      "execution_count": null,
      "outputs": []
    },
    {
      "cell_type": "code",
      "source": [
        "fmodel = MyCNN().to(device)\n",
        "criterion = nn.CrossEntropyLoss()\n",
        "optimizer = torch.optim.SGD(model.parameters(), lr=0.01)\n",
        "\n"
      ],
      "metadata": {
        "id": "v8GVUKdiws6M"
      },
      "execution_count": null,
      "outputs": []
    },
    {
      "cell_type": "markdown",
      "source": [
        "4) **Построите графики обучения и проанализируйте ошибки сети, сделайте выводы**"
      ],
      "metadata": {
        "id": "PLmiIyh-aefE"
      }
    },
    {
      "cell_type": "code",
      "source": [
        "# your code here\n",
        "model, history = train(\n",
        "    model, criterion, optimizer, \n",
        "    train_batch_gen, val_batch_gen, \n",
        "    num_epochs=60\n",
        ")\n",
        "# Hint: графики необходимы для того, чтобы следить за тем, не переобучилась ли модель\n",
        "# в случае переобучения можно попробовать изменить размер сети, добавить слои batchnorm и dropout"
      ],
      "metadata": {
        "id": "-62EBRrRanmL",
        "colab": {
          "base_uri": "https://localhost:8080/",
          "height": 556
        },
        "outputId": "144a33a5-c297-4396-d380-ae4db97ad227"
      },
      "execution_count": null,
      "outputs": [
        {
          "output_type": "stream",
          "name": "stdout",
          "text": [
            "Epoch 60 of 60 took 26.805s\n",
            "  training loss (in-iteration): \t0.880730\n",
            "  validation loss (in-iteration): \t0.941383\n",
            "  training accuracy: \t\t\t69.25 %\n",
            "  validation accuracy: \t\t\t67.69 %\n"
          ]
        },
        {
          "output_type": "display_data",
          "data": {
            "text/plain": [
              "<Figure size 1440x504 with 2 Axes>"
            ],
            "image/png": "[encoded data removed]"
          },
          "metadata": {
            "needs_background": "light"
          }
        }
      ]
    },
    {
      "cell_type": "code",
      "source": [
        "# Тестирование\n",
        "pred_vec = []\n",
        "correct = 0\n",
        "model.eval()\n",
        "with torch.no_grad():\n",
        "    for data in test_batch_gen:\n",
        "        batch, labels = data\n",
        "        batch, labels = batch.to(device), labels.to(device)\n",
        "        outputs = model(batch)\n",
        "        _, predicted = torch.max(outputs, 1)\n",
        "        correct += (predicted == labels).sum().item()\n",
        "        pred_vec.append(predicted)\n",
        "    pred_vec = torch.cat(pred_vec)\n",
        "\n",
        "print('Accuracy on the test images: %.2f %%' % (100 * correct / len(test_dataset)))"
      ],
      "metadata": {
        "colab": {
          "base_uri": "https://localhost:8080/"
        },
        "id": "4WB90uwiNiAd",
        "outputId": "6f57b38d-7fed-4ba1-f760-1d986b2344bb"
      },
      "execution_count": null,
      "outputs": [
        {
          "output_type": "stream",
          "name": "stdout",
          "text": [
            "Accuracy on the test images: 73.06 %\n"
          ]
        }
      ]
    },
    {
      "cell_type": "code",
      "source": [],
      "metadata": {
        "id": "1lXMG1p2Nhyk"
      },
      "execution_count": null,
      "outputs": []
    },
    {
      "cell_type": "code",
      "source": [
        "class MyCNN2(nn.Module):\n",
        "  def __init__(self):\n",
        "    super(MyCNN2, self).__init__()\n",
        "    self.conv1 = nn.Conv2d(3, 128, 5, padding=2)\n",
        "    self.conv2 = nn.Conv2d(128, 128, 5, padding=2)\n",
        "    self.conv3 = nn.Conv2d(128, 256, 3, padding=1)\n",
        "    self.conv4 = nn.Conv2d(256, 256, 3, padding=1)\n",
        "    self.pool = nn.MaxPool2d(2, 2)\n",
        "    self.bn_conv1 = nn.BatchNorm2d(128)\n",
        "    self.bn_conv2 = nn.BatchNorm2d(128)\n",
        "    self.bn_conv3 = nn.BatchNorm2d(256)\n",
        "    self.bn_conv4 = nn.BatchNorm2d(256)\n",
        "    self.bn_dense1 = nn.BatchNorm1d(1024)\n",
        "    self.bn_dense2 = nn.BatchNorm1d(512)\n",
        "    self.dropout_conv = nn.Dropout2d(p=0.25)\n",
        "    self.dropout = nn.Dropout(p=0.5)\n",
        "    self.fc1 = nn.Linear(256 * 8 * 8, 1024)\n",
        "    self.fc2 = nn.Linear(1024, 512)\n",
        "    self.fc3 = nn.Linear(512, 10)\n",
        "\n",
        "  def conv_layers(self, x):\n",
        "    out = F.relu(self.bn_conv1(self.conv1(x)))\n",
        "    out = F.relu(self.bn_conv2(self.conv2(out)))\n",
        "    out = self.pool(out)\n",
        "    out = self.dropout_conv(out)\n",
        "    out = F.relu(self.bn_conv3(self.conv3(out)))\n",
        "    out = F.relu(self.bn_conv4(self.conv4(out)))\n",
        "    out = self.pool(out)\n",
        "    out = self.dropout_conv(out)\n",
        "    return out\n",
        "\n",
        "  def dense_layers(self, x):\n",
        "    out = F.relu(self.bn_dense1(self.fc1(x)))\n",
        "    out = self.dropout(out)\n",
        "    out = F.relu(self.bn_dense2(self.fc2(out)))\n",
        "    out = self.dropout(out)\n",
        "    out = self.fc3(out)\n",
        "    return out\n",
        "\n",
        "  def forward(self, x):\n",
        "    out = self.conv_layers(x)\n",
        "    out = out.view(-1, 256 * 8 * 8)\n",
        "    out = self.dense_layers(out)\n",
        "    return out"
      ],
      "metadata": {
        "id": "0YQx_Aa_5aa5"
      },
      "execution_count": null,
      "outputs": []
    },
    {
      "cell_type": "code",
      "source": [
        "model = MyCNN2().to(device)\n",
        "criterion = nn.CrossEntropyLoss()\n",
        "optimizer = torch.optim.SGD(model.parameters(), lr=0.01)\n",
        "model, history = train(\n",
        "    model, criterion, optimizer, \n",
        "    train_batch_gen, val_batch_gen, \n",
        "    num_epochs=60\n",
        ")"
      ],
      "metadata": {
        "colab": {
          "base_uri": "https://localhost:8080/",
          "height": 556
        },
        "id": "fewMOkOrBhtk",
        "outputId": "3a53e36c-9473-4f8a-dffa-9390eec87845"
      },
      "execution_count": null,
      "outputs": [
        {
          "output_type": "stream",
          "name": "stdout",
          "text": [
            "Epoch 60 of 60 took 48.007s\n",
            "  training loss (in-iteration): \t0.382616\n",
            "  validation loss (in-iteration): \t0.666351\n",
            "  training accuracy: \t\t\t86.54 %\n",
            "  validation accuracy: \t\t\t79.12 %\n"
          ]
        },
        {
          "output_type": "display_data",
          "data": {
            "text/plain": [
              "<Figure size 1440x504 with 2 Axes>"
            ],
            "image/png": "[encoded data removed]"
          },
          "metadata": {
            "needs_background": "light"
          }
        }
      ]
    },
    {
      "cell_type": "code",
      "source": [
        "# Тестирование\n",
        "pred_vec = []\n",
        "correct = 0\n",
        "model.eval()\n",
        "with torch.no_grad():\n",
        "    for data in test_batch_gen:\n",
        "        batch, labels = data\n",
        "        batch, labels = batch.to(device), labels.to(device)\n",
        "        outputs = model(batch)\n",
        "        _, predicted = torch.max(outputs, 1)\n",
        "        correct += (predicted == labels).sum().item()\n",
        "        pred_vec.append(predicted)\n",
        "    pred_vec = torch.cat(pred_vec)\n",
        "\n",
        "print('Accuracy on the test images: %.2f %%' % (100 * correct / len(test_dataset)))"
      ],
      "metadata": {
        "colab": {
          "base_uri": "https://localhost:8080/"
        },
        "id": "EIUpZetMBrYF",
        "outputId": "462b6d0b-63c3-4ed1-a9fa-73ad2a3badbf"
      },
      "execution_count": null,
      "outputs": [
        {
          "output_type": "stream",
          "name": "stdout",
          "text": [
            "Accuracy on the test images: 82.41 %\n"
          ]
        }
      ]
    },
    {
      "cell_type": "code",
      "source": [
        "# набор аугментаций при обучении\n",
        "transform_train = transforms.Compose([\n",
        "    transforms.ColorJitter(0.9, 0.9, 0.9),\n",
        "    transforms.RandomAffine(5),\n",
        "    transforms.ToTensor(),\n",
        "])\n",
        "\n",
        "# набор аугментаций при валидации\n",
        "transform_test = transforms.Compose([\n",
        "    transforms.ToTensor(),\n",
        "])"
      ],
      "metadata": {
        "id": "6J-GclsbzH1m"
      },
      "execution_count": null,
      "outputs": []
    },
    {
      "cell_type": "code",
      "source": [
        "# Загружаем данные с аугментациями:\n",
        "dataset = torchvision.datasets.CIFAR10(\n",
        "    root='./data', \n",
        "    train=True,\n",
        "    download=True, \n",
        "    transform=transform_train\n",
        ")\n",
        "# разделили выборку на обучение и валидацию\n",
        "train_dataset, val_dataset = torch.utils.data.random_split(dataset, [40000, 10000])\n",
        "\n",
        "test_dataset = torchvision.datasets.CIFAR10(\n",
        "    root='./data', \n",
        "    train=False,\n",
        "    download=True, \n",
        "    transform=transform_test\n",
        ")"
      ],
      "metadata": {
        "colab": {
          "base_uri": "https://localhost:8080/"
        },
        "id": "H8S3IjPjzPnV",
        "outputId": "7431cb8e-1d04-4ee1-b653-a60653f8f17d"
      },
      "execution_count": null,
      "outputs": [
        {
          "output_type": "stream",
          "name": "stdout",
          "text": [
            "Files already downloaded and verified\n",
            "Files already downloaded and verified\n"
          ]
        }
      ]
    },
    {
      "cell_type": "code",
      "source": [
        "# Инициализируем даталоадеры:\n",
        "batch_size = 64\n",
        "\n",
        "train_batch_gen = torch.utils.data.DataLoader(\n",
        "    train_dataset, batch_size=batch_size, shuffle=True\n",
        ")\n",
        "val_batch_gen = torch.utils.data.DataLoader(\n",
        "    val_dataset, batch_size=batch_size, shuffle=True\n",
        ")\n",
        "test_batch_gen = torch.utils.data.DataLoader(\n",
        "    test_dataset, batch_size=batch_size, shuffle=False\n",
        ")"
      ],
      "metadata": {
        "id": "1C-7fxQAzd1Z"
      },
      "execution_count": null,
      "outputs": []
    },
    {
      "cell_type": "code",
      "source": [
        "# Обучим нейросеть на новых данных:\n",
        "model =  MyCNN().to(device)\n",
        "criterion = nn.CrossEntropyLoss()\n",
        "optimizer = torch.optim.SGD(model.parameters(), lr=0.01)\n",
        "\n",
        "model, history = train(\n",
        "    model, criterion, optimizer, \n",
        "    train_batch_gen, val_batch_gen, \n",
        "    num_epochs=60\n",
        ")"
      ],
      "metadata": {
        "colab": {
          "base_uri": "https://localhost:8080/",
          "height": 556
        },
        "id": "sSPkWQUPzhNm",
        "outputId": "1d8f66e5-1fcd-4531-a8e9-39ef51def4de"
      },
      "execution_count": null,
      "outputs": [
        {
          "output_type": "stream",
          "name": "stdout",
          "text": [
            "Epoch 60 of 60 took 25.117s\n",
            "  training loss (in-iteration): \t0.865719\n",
            "  validation loss (in-iteration): \t0.916002\n",
            "  training accuracy: \t\t\t69.59 %\n",
            "  validation accuracy: \t\t\t68.95 %\n"
          ]
        },
        {
          "output_type": "display_data",
          "data": {
            "text/plain": [
              "<Figure size 1440x504 with 2 Axes>"
            ],
            "image/png": "[encoded data removed]"
          },
          "metadata": {
            "needs_background": "light"
          }
        }
      ]
    },
    {
      "cell_type": "code",
      "source": [
        "# Тестирование\n",
        "pred_vec = []\n",
        "correct = 0\n",
        "model.eval()\n",
        "with torch.no_grad():\n",
        "    for data in test_batch_gen:\n",
        "        batch, labels = data\n",
        "        batch, labels = batch.to(device), labels.to(device)\n",
        "        outputs = model(batch)\n",
        "        _, predicted = torch.max(outputs, 1)\n",
        "        correct += (predicted == labels).sum().item()\n",
        "        pred_vec.append(predicted)\n",
        "    pred_vec = torch.cat(pred_vec)\n",
        "\n",
        "print('Accuracy on the test images: %.2f %%' % (100 * correct / len(test_dataset)))"
      ],
      "metadata": {
        "colab": {
          "base_uri": "https://localhost:8080/"
        },
        "id": "3nC3nDYvOieo",
        "outputId": "38b45e98-2236-4f67-dc29-02f102137053"
      },
      "execution_count": null,
      "outputs": [
        {
          "output_type": "stream",
          "name": "stdout",
          "text": [
            "Accuracy on the test images: 74.66 %\n"
          ]
        }
      ]
    }
  ]
}